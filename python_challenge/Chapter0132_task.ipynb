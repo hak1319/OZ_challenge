{
  "cells": [
    {
      "cell_type": "markdown",
      "metadata": {
        "id": "view-in-github",
        "colab_type": "text"
      },
      "source": [
        "<a href=\"https://colab.research.google.com/github/hak1319/challenge_01-32/blob/main/Chapter0132_task.ipynb\" target=\"_parent\"><img src=\"https://colab.research.google.com/assets/colab-badge.svg\" alt=\"Open In Colab\"/></a>"
      ]
    },
    {
      "cell_type": "code",
      "source": [
        "#가이드 코드 입니다.\n",
        "# 주소록 데이터 저장을 위한 리스트\n",
        "address_book = []\n",
        "\n",
        "# 연락처 추가 함수\n",
        "def add_contact(name: str, phone: str, email: str = '') -> None:\n",
        "    contact={'name' : name,\n",
        "             'phone' : phone,\n",
        "             'email' : email}\n",
        "    address_book.append(contact)\n",
        "    print ('연락처가 추가되었습니다.')\n",
        "\n",
        "# 연락처 목록 보기 함수\n",
        "def view_contacts() -> None:\n",
        "    if not address_book:\n",
        "        print('등록된 연락처가 없습니다')\n",
        "    else :\n",
        "        for i in address_book:\n",
        "            print(f\"이름 : {i['name']} 전화번호 :{i['phone']} email :{i['email']}\")\n",
        "\n",
        "# 연락처 검색 함수\n",
        "def search_contacts(keyword: str) -> None:\n",
        "    found = False\n",
        "    for i in address_book :\n",
        "        if keyword == i['name'] :\n",
        "            print(f\"이름 : {i['name']} 전화번호 :{i['phone']} email :{i['email']}\")\n",
        "            found = True\n",
        "    if found == False :\n",
        "        print('검색된 연락처가 없습니다.')\n",
        "\n",
        "\n",
        "# 연락처 삭제 함수\n",
        "def delete_contact(name: str) -> None:\n",
        "\n",
        "    found = False\n",
        "    for i in address_book:\n",
        "        if name == i['name'] :\n",
        "            address_book.remove(i)\n",
        "            print(f'{name}가 삭제되었습니다.')\n",
        "            found = True\n",
        "    if not found :\n",
        "        print('삭제할 연락처가 없습니다.')\n",
        "\n",
        "\n",
        "# 연락처 정렬 함수\n",
        "def sort_contacts() -> None:\n",
        "    address_book.sort(key=lambda contact:contact['name'].lower())\n",
        "    print(\"연락처가 이름 순서로 정렬되었습니다.\")\n",
        "\n",
        "\n",
        "# 제너레이터를 이용한 연락처 순회\n",
        "def contact_generator():\n",
        "    for contact in address_book:\n",
        "        yield contact\n",
        "\n",
        "# 메인 함수\n",
        "while True:\n",
        "    mode = input('원하는 모드 숫자를 입력하세요. 연락처(1.추가,2.목록보기,3.검색,4.삭제,5.정렬,6.종료)')\n",
        "    if mode == '6': break\n",
        "    elif mode == '1':\n",
        "        name = input(\"이름을 입력하세요: \")\n",
        "        phone = input(\"전화번호를 입력하세요: \")\n",
        "        email = input(\"이메일을 입력하세요: \")\n",
        "        add_contact(name, phone, email)\n",
        "    elif mode == '2':\n",
        "        view_contacts()\n",
        "    elif mode == '3':\n",
        "        keyword = input('검색할 이름을 입력하세요 :')\n",
        "        search_contacts(keyword)\n",
        "    elif mode == '4':\n",
        "        keyword = input('삭제할 이름을 입력하세요 :')\n",
        "        delete_contact(keyword)\n",
        "    elif mode == '5':\n",
        "        sort_contacts()\n",
        "    else:\n",
        "        print('잘못된 입력입니다 다시 입력하세요')\n",
        "\n",
        "\n"
      ],
      "metadata": {
        "colab": {
          "base_uri": "https://localhost:8080/"
        },
        "id": "RwWS86xAItc1",
        "outputId": "00c05a22-9a9d-4144-f10a-7772500328bd"
      },
      "execution_count": 4,
      "outputs": [
        {
          "name": "stdout",
          "output_type": "stream",
          "text": [
            "원하는 모드 숫자를 입력하세요. 연락처(1.추가,2.목록보기,3.검색,4.삭제,5.정렬,6.종료)1\n",
            "이름을 입력하세요: 병학\n",
            "전화번호를 입력하세요: 11111111\n",
            "이메일을 입력하세요: gkrmweak@gmail\n",
            "연락처가 추가되었습니다.\n",
            "원하는 모드 숫자를 입력하세요. 연락처(1.추가,2.목록보기,3.검색,4.삭제,5.정렬,6.종료)1\n",
            "이름을 입력하세요: 등환\n",
            "전화번호를 입력하세요: 222222\n",
            "이메일을 입력하세요: gkrs@\n",
            "연락처가 추가되었습니다.\n",
            "원하는 모드 숫자를 입력하세요. 연락처(1.추가,2.목록보기,3.검색,4.삭제,5.정렬,6.종료)3\n",
            "검색할 이름을 입력하세요 :등환\n",
            "이름 : 등환 전화번호 :222222 email :gkrs@\n",
            "원하는 모드 숫자를 입력하세요. 연락처(1.추가,2.목록보기,3.검색,4.삭제,5.정렬,6.종료)2\n",
            "이름 : 병학 전화번호 :11111111 email :gkrmweak@gmail\n",
            "이름 : 등환 전화번호 :222222 email :gkrs@\n",
            "원하는 모드 숫자를 입력하세요. 연락처(1.추가,2.목록보기,3.검색,4.삭제,5.정렬,6.종료)5\n",
            "연락처가 이름 순서로 정렬되었습니다.\n",
            "원하는 모드 숫자를 입력하세요. 연락처(1.추가,2.목록보기,3.검색,4.삭제,5.정렬,6.종료)2\n",
            "이름 : 등환 전화번호 :222222 email :gkrs@\n",
            "이름 : 병학 전화번호 :11111111 email :gkrmweak@gmail\n",
            "원하는 모드 숫자를 입력하세요. 연락처(1.추가,2.목록보기,3.검색,4.삭제,5.정렬,6.종료)4\n",
            "삭제할 이름을 입력하세요 :등환\n",
            "등환가 삭제되었습니다.\n",
            "원하는 모드 숫자를 입력하세요. 연락처(1.추가,2.목록보기,3.검색,4.삭제,5.정렬,6.종료)2\n",
            "이름 : 병학 전화번호 :11111111 email :gkrmweak@gmail\n",
            "원하는 모드 숫자를 입력하세요. 연락처(1.추가,2.목록보기,3.검색,4.삭제,5.정렬,6.종료)6\n"
          ]
        }
      ]
    }
  ],
  "metadata": {
    "language_info": {
      "name": "python"
    },
    "colab": {
      "provenance": [],
      "include_colab_link": true
    },
    "kernelspec": {
      "name": "python3",
      "display_name": "Python 3"
    }
  },
  "nbformat": 4,
  "nbformat_minor": 0
}
