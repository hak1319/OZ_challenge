{
  "cells": [
    {
      "cell_type": "markdown",
      "metadata": {
        "id": "view-in-github",
        "colab_type": "text"
      },
      "source": [
        "<a href=\"https://colab.research.google.com/github/hak1319/challenge_01-32/blob/main/Ch24_task.ipynb\" target=\"_parent\"><img src=\"https://colab.research.google.com/assets/colab-badge.svg\" alt=\"Open In Colab\"/></a>"
      ]
    },
    {
      "cell_type": "markdown",
      "metadata": {
        "id": "x5roKfyvoB2A"
      },
      "source": [
        "사용자의 이름, 나이, 성별을 출력하는 함수 print_info를 작성하세요. 이 때, 모든 매개변수는 키워드 매개변수로만 받도록 하세요."
      ]
    },
    {
      "cell_type": "markdown",
      "metadata": {
        "id": "2MEb3P3KoB2C"
      },
      "source": []
    },
    {
      "cell_type": "code",
      "source": [
        "def print_info(name,age,gender) :\n",
        "    print(f' 이름 : {name}\\n 나이 : {age}\\n 성별 : {gender}')"
      ],
      "metadata": {
        "id": "huMtOb5OoHql"
      },
      "execution_count": 1,
      "outputs": []
    },
    {
      "cell_type": "code",
      "source": [
        "def print_info(**kwargs) :\n",
        "    for k,v in kwargs.items() :\n",
        "        print(f' {k} : {v}')"
      ],
      "metadata": {
        "id": "6D8KfYimpSsZ"
      },
      "execution_count": 2,
      "outputs": []
    }
  ],
  "metadata": {
    "language_info": {
      "name": "python"
    },
    "colab": {
      "provenance": [],
      "include_colab_link": true
    },
    "kernelspec": {
      "name": "python3",
      "display_name": "Python 3"
    }
  },
  "nbformat": 4,
  "nbformat_minor": 0
}
