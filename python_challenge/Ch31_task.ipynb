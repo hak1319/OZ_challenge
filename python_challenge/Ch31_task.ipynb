{
  "cells": [
    {
      "cell_type": "markdown",
      "metadata": {
        "id": "view-in-github",
        "colab_type": "text"
      },
      "source": [
        "<a href=\"https://colab.research.google.com/github/hak1319/challenge_01-32/blob/main/Ch31_task.ipynb\" target=\"_parent\"><img src=\"https://colab.research.google.com/assets/colab-badge.svg\" alt=\"Open In Colab\"/></a>"
      ]
    },
    {
      "cell_type": "markdown",
      "metadata": {
        "id": "cjMIR8ZGzEtX"
      },
      "source": [
        "문자열 리스트를 받아, 각 문자열의 길이를 출력하는 함수 print_lengths를 작성하세요."
      ]
    },
    {
      "cell_type": "markdown",
      "metadata": {
        "id": "893oOXy4zEtZ"
      },
      "source": []
    },
    {
      "cell_type": "code",
      "source": [
        "def print_lengths(n : list) :\n",
        "    for i in n :\n",
        "        print(f'{i} ,문자열 길이 {len(i)}')\n",
        "\n",
        "print_lengths([\"hello\", \"world\", \"python\"])"
      ],
      "metadata": {
        "colab": {
          "base_uri": "https://localhost:8080/"
        },
        "id": "H-jqdElBzIWN",
        "outputId": "5ee13b13-dfee-4a3a-b728-6a85ea1e1eef"
      },
      "execution_count": 3,
      "outputs": [
        {
          "output_type": "stream",
          "name": "stdout",
          "text": [
            "hello ,문자열 길이 5\n",
            "world ,문자열 길이 5\n",
            "python ,문자열 길이 6\n"
          ]
        }
      ]
    }
  ],
  "metadata": {
    "language_info": {
      "name": "python"
    },
    "colab": {
      "provenance": [],
      "include_colab_link": true
    },
    "kernelspec": {
      "name": "python3",
      "display_name": "Python 3"
    }
  },
  "nbformat": 4,
  "nbformat_minor": 0
}
