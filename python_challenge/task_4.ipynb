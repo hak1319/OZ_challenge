{
 "cells": [
  {
   "cell_type": "markdown",
   "metadata": {},
   "source": [
    "사용자 정의 예외 NegativeNumberError를 생성하고, 사용자로부터 숫자를 입력받아 음수일 경우 NegativeNumberError를 발생시키는 프로그램을 작성하세요. \n",
    "\n",
    "- 예외 처리 구문을 사용하여 음수 입력 시 \"양수를 입력해주세요.\"라는 메시지를 출력"
   ]
  },
  {
   "cell_type": "code",
   "execution_count": 5,
   "metadata": {},
   "outputs": [
    {
     "name": "stdout",
     "output_type": "stream",
     "text": [
      "NegativeNumberError : 음수를 입력하셨습니다.\n"
     ]
    }
   ],
   "source": [
    "# class NegativeNumberError(Exception):\n",
    "#     def __init__(self,message) :\n",
    "#         self.message = message # 메세지를 꼭적어야함\n",
    "#         super().__init__(message) # 부모 함수에 넣고 message 를 남김\n",
    "        \n",
    "\n",
    "# try: \n",
    "#     num = input(\"양수를 입력하세요\")\n",
    "#     if int(num) < 0 :\n",
    "#         raise NegativeNumberError('음수를 입력하셨습니다.')\n",
    "    \n",
    "# except NegativeNumberError as e:\n",
    "#     print(e)\n",
    "\n",
    "class NegativeNumberError(Exception):\n",
    "    def __init__(self,message) :\n",
    "        self.message = message # 메세지를 꼭적어야함\n",
    "        self.contact_name = \"NegativeNumberError\"\n",
    "        super().__init__(message) # 부모 함수에 넣고 message 를 남김\n",
    "    def __str__(self) :\n",
    "        return f'{self.contact_name} : {self.message}'\n",
    "\n",
    "try: \n",
    "    num = input(\"양수를 입력하세요\")\n",
    "    if int(num) < 0 :\n",
    "        raise NegativeNumberError('음수를 입력하셨습니다.')\n",
    "\n",
    "except NegativeNumberError as e:\n",
    "    print(e)"
   ]
  }
 ],
 "metadata": {
  "kernelspec": {
   "display_name": "Python 3",
   "language": "python",
   "name": "python3"
  },
  "language_info": {
   "codemirror_mode": {
    "name": "ipython",
    "version": 3
   },
   "file_extension": ".py",
   "mimetype": "text/x-python",
   "name": "python",
   "nbconvert_exporter": "python",
   "pygments_lexer": "ipython3",
   "version": "3.13.0"
  }
 },
 "nbformat": 4,
 "nbformat_minor": 2
}
