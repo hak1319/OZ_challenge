{
  "cells": [
    {
      "cell_type": "markdown",
      "metadata": {
        "id": "view-in-github",
        "colab_type": "text"
      },
      "source": [
        "<a href=\"https://colab.research.google.com/github/hak1319/challenge_01-32/blob/main/Ch32_task.ipynb\" target=\"_parent\"><img src=\"https://colab.research.google.com/assets/colab-badge.svg\" alt=\"Open In Colab\"/></a>"
      ]
    },
    {
      "cell_type": "markdown",
      "metadata": {
        "id": "cooEusmm0jHm"
      },
      "source": [
        "두 문자열을 받아서 긴 문자열을 반환하는 함수 longer_string을 작성하세요. 만약 두 문자열의 길이가 같다면, 첫 번째 문자열을 반환하세요."
      ]
    },
    {
      "cell_type": "markdown",
      "metadata": {
        "id": "HwwR0TJn0jHo"
      },
      "source": []
    },
    {
      "cell_type": "code",
      "source": [
        "def longer_string(str1,str2):\n",
        "    if len(str1) >= len(str2):\n",
        "        return str1\n",
        "    else :\n",
        "        return str2"
      ],
      "metadata": {
        "id": "IA2w-z8z0mbw"
      },
      "execution_count": null,
      "outputs": []
    }
  ],
  "metadata": {
    "language_info": {
      "name": "python"
    },
    "colab": {
      "provenance": [],
      "include_colab_link": true
    }
  },
  "nbformat": 4,
  "nbformat_minor": 0
}
