{
  "cells": [
    {
      "cell_type": "markdown",
      "metadata": {
        "id": "view-in-github",
        "colab_type": "text"
      },
      "source": [
        "<a href=\"https://colab.research.google.com/github/hak1319/challenge/blob/main/Ch42~47_task_4.ipynb\" target=\"_parent\"><img src=\"https://colab.research.google.com/assets/colab-badge.svg\" alt=\"Open In Colab\"/></a>"
      ]
    },
    {
      "cell_type": "markdown",
      "metadata": {
        "id": "MzeE0_mzJpWd"
      },
      "source": [
        "[문제]\n",
        "\n",
        "'Employee' 클래스를 선언하세요.\n",
        "\n",
        "이 클래스는 월급인상률을 의미하는 클래스 변수로 'raise_amount'를 갖고 있으며, 기본값은 1.04입니다. 다음 급여는 기본 급여에 월급인상률을 곱한 값으로 결정합니다.\n",
        "\n",
        "또한, 각 직원의 이름(name)과 급여(salary)를 속성으로 가지며, 'apply_raise' 메소드를 통해 급여에 'raise_amount'를 적용할 수 있어야 합니다.\n",
        "\n",
        "'Employee' 클래스의 객체 두 개를 생성하고, 한 객체에만 'raise_amount'를 변경한 후, 두 객체의 급여를 증가시켜보세요.<br>\n",
        "그리고 각 객체의 새로운 급여를 출력하세요."
      ]
    },
    {
      "cell_type": "code",
      "source": [
        "class Employee():\n",
        "    raise_amount = 1.04\n",
        "    def __init__(self, name, salary):\n",
        "        self.name = name\n",
        "        self.salary = salary\n",
        "    def apply_raise(self):\n",
        "        self.salary=Employee.raise_amount*self.salary\n",
        "\n",
        "employee1 = Employee('파머',10000)\n",
        "employee2 = Employee('신비',10000)\n",
        "\n",
        "# employee1.raise_amount = 1.1 # 이렇게 바꾸면 클래스변수여서 전체가 다바뀜\n",
        "\n",
        "# employee1.apply_raise()\n",
        "# employee2.apply_raise()\n",
        "\n",
        "# print(employee1.salary)\n",
        "# print(employee2.salary)\n",
        "\n",
        "Employee.raise_amount = 1.1\n",
        "employee1.apply_raise()\n",
        "\n",
        "Employee.raise_amount = 1.6\n",
        "employee2.apply_raise()\n",
        "print(employee1.salary)\n",
        "print(employee2.salary)"
      ],
      "metadata": {
        "colab": {
          "base_uri": "https://localhost:8080/"
        },
        "id": "lwzXGBBhJqcq",
        "outputId": "ac7bc455-48d8-4e4a-c0f0-8227ff54cfb4"
      },
      "execution_count": 3,
      "outputs": [
        {
          "output_type": "stream",
          "name": "stdout",
          "text": [
            "11000.0\n",
            "16000.0\n"
          ]
        }
      ]
    }
  ],
  "metadata": {
    "language_info": {
      "name": "python"
    },
    "colab": {
      "provenance": [],
      "include_colab_link": true
    },
    "kernelspec": {
      "name": "python3",
      "display_name": "Python 3"
    }
  },
  "nbformat": 4,
  "nbformat_minor": 0
}