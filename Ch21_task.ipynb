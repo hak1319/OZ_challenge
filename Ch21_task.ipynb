{
  "cells": [
    {
      "cell_type": "markdown",
      "metadata": {
        "id": "view-in-github",
        "colab_type": "text"
      },
      "source": [
        "<a href=\"https://colab.research.google.com/github/hak1319/challenge_01-32/blob/main/Ch21_task.ipynb\" target=\"_parent\"><img src=\"https://colab.research.google.com/assets/colab-badge.svg\" alt=\"Open In Colab\"/></a>"
      ]
    },
    {
      "cell_type": "markdown",
      "metadata": {
        "id": "kZ3IZ-Zriq0_"
      },
      "source": [
        "사용자로부터 이름과 나이를 입력 받아, \"안녕하세요, [이름]님! 당신은 [나이]살입니다.\"라고 출력하는 함수 greet_user를 작성하세요."
      ]
    },
    {
      "cell_type": "code",
      "source": [
        "def greet_user(nmae,age):\n",
        "    print(f\"안녕하세요, {name}님! 당신은 {age}살입니다.\")"
      ],
      "metadata": {
        "id": "u7lBgy9kk0vR"
      },
      "execution_count": null,
      "outputs": []
    }
  ],
  "metadata": {
    "language_info": {
      "name": "python"
    },
    "colab": {
      "provenance": [],
      "include_colab_link": true
    }
  },
  "nbformat": 4,
  "nbformat_minor": 0
}