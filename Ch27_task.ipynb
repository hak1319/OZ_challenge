{
  "cells": [
    {
      "cell_type": "markdown",
      "metadata": {
        "id": "view-in-github",
        "colab_type": "text"
      },
      "source": [
        "<a href=\"https://colab.research.google.com/github/hak1319/challenge_01-32/blob/main/Ch27_task.ipynb\" target=\"_parent\"><img src=\"https://colab.research.google.com/assets/colab-badge.svg\" alt=\"Open In Colab\"/></a>"
      ]
    },
    {
      "cell_type": "markdown",
      "metadata": {
        "id": "MR76MfCms91d"
      },
      "source": [
        "두 숫자를 더하는 람다 함수를 작성하고, 이를 변수에 할당한 후 사용하세요."
      ]
    },
    {
      "cell_type": "markdown",
      "metadata": {
        "id": "-3FUBRi2s91e"
      },
      "source": []
    },
    {
      "cell_type": "code",
      "source": [
        "add =lambda x,y : x+y\n",
        "\n",
        "print(add(3,4))"
      ],
      "metadata": {
        "colab": {
          "base_uri": "https://localhost:8080/"
        },
        "id": "zxHIu7fOs_uw",
        "outputId": "47aa4ab7-a41b-45d4-f48e-74a4bfce4108"
      },
      "execution_count": 1,
      "outputs": [
        {
          "output_type": "stream",
          "name": "stdout",
          "text": [
            "7\n"
          ]
        }
      ]
    }
  ],
  "metadata": {
    "language_info": {
      "name": "python"
    },
    "colab": {
      "provenance": [],
      "include_colab_link": true
    },
    "kernelspec": {
      "name": "python3",
      "display_name": "Python 3"
    }
  },
  "nbformat": 4,
  "nbformat_minor": 0
}