{
  "cells": [
    {
      "cell_type": "markdown",
      "metadata": {
        "id": "view-in-github",
        "colab_type": "text"
      },
      "source": [
        "<a href=\"https://colab.research.google.com/github/hak1319/challenge_01-32/blob/main/Ch30_task.ipynb\" target=\"_parent\"><img src=\"https://colab.research.google.com/assets/colab-badge.svg\" alt=\"Open In Colab\"/></a>"
      ]
    },
    {
      "cell_type": "markdown",
      "metadata": {
        "id": "3ZAvVMwMv1Pf"
      },
      "source": [
        "팩토리얼을 계산하는 재귀 함수 factorial을 작성하세요."
      ]
    },
    {
      "cell_type": "markdown",
      "metadata": {
        "id": "7_ez5bQQv1Ph"
      },
      "source": []
    },
    {
      "cell_type": "code",
      "source": [
        "def factorial(n):\n",
        "    multiply =1\n",
        "    if n==0 :\n",
        "        return 0\n",
        "    else :\n",
        "        for i in range(1,n+1) :\n",
        "            multiply = multiply*i\n",
        "    return multiply\n",
        "\n",
        "print(factorial(5))"
      ],
      "metadata": {
        "colab": {
          "base_uri": "https://localhost:8080/"
        },
        "id": "HQ2Tcyf4v4Bd",
        "outputId": "800e1926-033f-45ef-f862-e755c298d2fe"
      },
      "execution_count": 6,
      "outputs": [
        {
          "output_type": "stream",
          "name": "stdout",
          "text": [
            "120\n"
          ]
        }
      ]
    }
  ],
  "metadata": {
    "language_info": {
      "name": "python"
    },
    "colab": {
      "provenance": [],
      "include_colab_link": true
    },
    "kernelspec": {
      "name": "python3",
      "display_name": "Python 3"
    }
  },
  "nbformat": 4,
  "nbformat_minor": 0
}