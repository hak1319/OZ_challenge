{
  "cells": [
    {
      "cell_type": "markdown",
      "metadata": {
        "id": "view-in-github",
        "colab_type": "text"
      },
      "source": [
        "<a href=\"https://colab.research.google.com/github/hak1319/challenge/blob/main/Ch42~47_task_5.ipynb\" target=\"_parent\"><img src=\"https://colab.research.google.com/assets/colab-badge.svg\" alt=\"Open In Colab\"/></a>"
      ]
    },
    {
      "cell_type": "markdown",
      "metadata": {
        "id": "e1uiFG_oLvOm"
      },
      "source": [
        "[문제]\n",
        "\n",
        "'Account' 클래스를 작성하세요.\n",
        "\n",
        "이 클래스는 소유자(owner)와 잔액(balance)을 속성으로 가지며, 잔액은 프라이빗 변수로 선언합니다.\n",
        "\n",
        "'deposit'와 'withdraw' 두 개의 메소드를 통해 잔액을 조작할 수 있도록 하세요.\n",
        "\n",
        "이 때, 잔액은 음수가 될 수 없도록 체크해야 합니다. 'Account' 객체를 생성하고,<br>\n",
        "입금 및 출금 작업을 시뮬레이션한 후, 최종 잔액을 출력하세요."
      ]
    },
    {
      "cell_type": "code",
      "source": [
        "class Account () :\n",
        "    def __init__(self,owner,balance) :\n",
        "        self.owner = owner\n",
        "        self.__balance = balance\n",
        "    def deposit(self,money) :\n",
        "        self.__balance += money\n",
        "    def withdraw(self,money) :\n",
        "        if self.__balance >= money :\n",
        "            self.__balance -= money\n",
        "        else :\n",
        "            print(\"잔액이 부족합니다.\")\n",
        "    @property\n",
        "    def balance(self):\n",
        "        return self.__balance\n",
        "    def get_balance(self):\n",
        "        return self.__balance\n",
        "\n",
        "account = Account(\"홍길도\",1000)\n",
        "account.deposit(10000)\n",
        "account.withdraw(20000)\n",
        "account.withdraw(3000)\n",
        "print(f'잔액 : {account.balance}')\n",
        "print(f'잔액 : {account.get_balance()}')\n"
      ],
      "metadata": {
        "colab": {
          "base_uri": "https://localhost:8080/"
        },
        "id": "W74DcPGyLzmv",
        "outputId": "e6adfa02-da6e-407f-d2a0-6ca2a6ac63c5"
      },
      "execution_count": 6,
      "outputs": [
        {
          "output_type": "stream",
          "name": "stdout",
          "text": [
            "잔액이 부족합니다.\n",
            "잔액 : 8000\n",
            "잔액 : 8000\n"
          ]
        }
      ]
    }
  ],
  "metadata": {
    "language_info": {
      "name": "python"
    },
    "colab": {
      "provenance": [],
      "include_colab_link": true
    },
    "kernelspec": {
      "name": "python3",
      "display_name": "Python 3"
    }
  },
  "nbformat": 4,
  "nbformat_minor": 0
}