{
  "cells": [
    {
      "cell_type": "markdown",
      "metadata": {
        "id": "view-in-github",
        "colab_type": "text"
      },
      "source": [
        "<a href=\"https://colab.research.google.com/github/hak1319/challenge_01-32/blob/main/Ch28_task.ipynb\" target=\"_parent\"><img src=\"https://colab.research.google.com/assets/colab-badge.svg\" alt=\"Open In Colab\"/></a>"
      ]
    },
    {
      "cell_type": "markdown",
      "metadata": {
        "id": "f8X8-IUctdTd"
      },
      "source": [
        "사용자로부터 3개의 숫자를 입력받아, 이를 튜플로 만든 후 최소값과 최대값을 출력하는 함수 min_max를 작성하세요."
      ]
    },
    {
      "cell_type": "markdown",
      "metadata": {
        "id": "G_0zQI7XtdTf"
      },
      "source": []
    },
    {
      "cell_type": "code",
      "source": [
        "# def min_max(a,b,c) :\n",
        "#     tuple_num=(a,b,c)\n",
        "#     print(f'최소값 : {min(tuple_num)},최대값 {max(tuple_num)}')\n",
        "\n",
        "\n",
        "# print(min_max(3,5,6))\n",
        "\n",
        "def min_max2(*args) :\n",
        "    tuple_num = tuple(args)\n",
        "    print(f'최소값 : {min(tuple_num)},최대값 {max(tuple_num)}')\n",
        "\n",
        "print(min_max(3,5,6))"
      ],
      "metadata": {
        "colab": {
          "base_uri": "https://localhost:8080/"
        },
        "id": "BW80wHhUtewi",
        "outputId": "5ea20c79-53f7-4cf0-e71b-a9fb10202614"
      },
      "execution_count": 7,
      "outputs": [
        {
          "output_type": "stream",
          "name": "stdout",
          "text": [
            "최소값 : 3,최대값 6\n",
            "None\n"
          ]
        }
      ]
    }
  ],
  "metadata": {
    "language_info": {
      "name": "python"
    },
    "colab": {
      "provenance": [],
      "include_colab_link": true
    },
    "kernelspec": {
      "name": "python3",
      "display_name": "Python 3"
    }
  },
  "nbformat": 4,
  "nbformat_minor": 0
}